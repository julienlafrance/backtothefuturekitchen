{
 "cells": [
  {
   "cell_type": "markdown",
   "id": "fed1453f",
   "metadata": {},
   "source": [
    "<div align=\"center\">\n",
    "\n",
    "<img src=\"https://www.telecom-paris.fr/wp-content-EvDsK19/uploads/2024/01/logo_telecom_ipparis_rvb_fond_h.png\" alt=\"Telecom Paris Logo\" width=\"300\"/>\n",
    "\n",
    "---\n",
    "\n",
    "# **Projet Big Data - EDA**\n",
    "## *IADATA700 - Kit Big Data*"
   ]
  },
  {
   "cell_type": "markdown",
   "id": "07463598",
   "metadata": {
    "vscode": {
     "languageId": "plaintext"
    }
   },
   "source": [
    "# 🍂 Analyse statistique / Recettes / Saisonnalité"
   ]
  },
  {
   "cell_type": "code",
   "execution_count": 24,
   "id": "aa520efb",
   "metadata": {},
   "outputs": [
    {
     "name": "stdout",
     "output_type": "stream",
     "text": [
      "✅ _data_utils module chargé (common + ratings + recipes)\n",
      "✅ Import réussi !\n"
     ]
    }
   ],
   "source": [
    "import sys\n",
    "sys.path.append('..')\n",
    "\n",
    "# Forcer le rechargement de notre module\n",
    "from _data_utils import *\n",
    "\n",
    "import pandas as pd\n",
    "import polars as pl\n",
    "import numpy as np\n",
    "import matplotlib.pyplot as plt\n",
    "import seaborn as sns\n",
    "import importlib\n",
    "import warnings\n",
    "\n",
    "from scipy import stats\n",
    "from scipy.stats import spearmanr, kendalltau, kruskal, chi2_contingency, chisquare, kstest\n",
    "from sklearn.linear_model import LinearRegression, TheilSenRegressor\n",
    "from statsmodels.stats.anova import anova_lm\n",
    "from statsmodels.formula.api import ols\n",
    "\n",
    "if '_data_utils' in sys.modules:\n",
    "    import _data_utils\n",
    "    importlib.reload(_data_utils)\n",
    "    if hasattr(_data_utils, 'data_utils_recipes'):\n",
    "        importlib.reload(_data_utils.data_utils_recipes)\n",
    "\n",
    "warnings.filterwarnings('ignore')\n",
    "\n",
    "# Configuration graphique\n",
    "sns.set_style(\"whitegrid\")\n",
    "plt.rcParams['figure.figsize'] = (14, 6)\n",
    "plt.rcParams['font.size'] = 10\n",
    "\n",
    "print(\"✅ Import réussi !\")"
   ]
  },
  {
   "cell_type": "markdown",
   "id": "fd8dbb87",
   "metadata": {},
   "source": [
    "## 📥 Chargement des données"
   ]
  },
  {
   "cell_type": "code",
   "execution_count": 18,
   "id": "e5c2e38b",
   "metadata": {},
   "outputs": [
    {
     "name": "stdout",
     "output_type": "stream",
     "text": [
      "✅ RAW_RECIPES chargée : 231,637 lignes × 12 colonnes\n",
      "🧹 Nettoyage des recettes...\n",
      "   ✓ 18,482 recettes avec minutes invalides (<1 ou >180)\n",
      "   ℹ️  Seuils calculés (IQ 90% = Q5%-Q95%):\n",
      "      • n_steps: [2, 24] (médiane=9, moyenne=9.7)\n",
      "      • n_ingredients: [3, 17] (médiane=9, moyenne=9.0)\n",
      "   ✓ 13,088 recettes avec n_steps ou n_ingredients aberrants (hors IQ 90%)\n",
      "✅ Nettoyage terminé : 200,066 recettes conservées (31,571 supprimées)\n",
      "⚙️ Enrichissement des recettes...\n",
      "✅ Enrichissement terminé : 28 colonnes totales\n",
      "✅ Dataset prêt : 200,066 lignes × 28 colonnes\n",
      "📅 Période : 1999 - 2018\n",
      "📊 Analyse de qualité des données...\n",
      "✅ Nettoyage terminé : 200,066 recettes conservées (31,571 supprimées)\n",
      "⚙️ Enrichissement des recettes...\n",
      "✅ Enrichissement terminé : 28 colonnes totales\n",
      "✅ Dataset prêt : 200,066 lignes × 28 colonnes\n",
      "📅 Période : 1999 - 2018\n",
      "📊 Analyse de qualité des données...\n",
      "\n",
      "======================================================================\n",
      "📋 RAPPORT DE QUALITÉ - RAW_RECIPES\n",
      "======================================================================\n",
      "📦 Dimensions : 200,066 lignes × 28 colonnes\n",
      "🔄 Doublons : 0\n",
      "⚠️  Valeurs nulles :\n",
      "   • description: 3,770 (1.9%)\n",
      "   • description_length: 3,770 (1.9%)\n",
      "⏱️ Minutes : médiane=35, moyenne=42.4, max=180\n",
      "🔜 Steps : médiane=8, moyenne=9.2, max=24\n",
      "🥕 Ingrédients : médiane=9, moyenne=8.8, max=17\n",
      "📅 Période : 1999-08-06 → 2018-12-04 (19 ans)\n",
      "======================================================================\n",
      "\n",
      "\n",
      "======================================================================\n",
      "📋 RAPPORT DE QUALITÉ - RAW_RECIPES\n",
      "======================================================================\n",
      "📦 Dimensions : 200,066 lignes × 28 colonnes\n",
      "🔄 Doublons : 0\n",
      "⚠️  Valeurs nulles :\n",
      "   • description: 3,770 (1.9%)\n",
      "   • description_length: 3,770 (1.9%)\n",
      "⏱️ Minutes : médiane=35, moyenne=42.4, max=180\n",
      "🔜 Steps : médiane=8, moyenne=9.2, max=24\n",
      "🥕 Ingrédients : médiane=9, moyenne=8.8, max=17\n",
      "📅 Période : 1999-08-06 → 2018-12-04 (19 ans)\n",
      "======================================================================\n",
      "\n"
     ]
    }
   ],
   "source": [
    "# 🚀 Pipeline complet : charge + nettoie + enrichit\n",
    "df = load_clean_recipes()\n",
    "\n",
    "print(f\"✅ Dataset prêt : {df.shape[0]:,} lignes × {df.shape[1]} colonnes\")\n",
    "print(f\"📅 Période : {df['year'].min()} - {df['year'].max()}\")\n",
    "\n",
    "# 📊 Rapport de qualité\n",
    "report = analyze_recipe_quality(df)"
   ]
  },
  {
   "cell_type": "markdown",
   "id": "5fe8d3a2",
   "metadata": {},
   "source": [
    "## Analyse statistique"
   ]
  },
  {
   "cell_type": "markdown",
   "id": "71b30f13",
   "metadata": {},
   "source": [
    "### Analyse 1 : Évolution du volume de recettes\n",
    "#### Visualisation"
   ]
  },
  {
   "cell_type": "code",
   "execution_count": 3,
   "id": "22972257",
   "metadata": {},
   "outputs": [
    {
     "data": {
      "image/png": "[encoded data removed]",
      "text/plain": [
       "<Figure size 1500x400 with 2 Axes>"
      ]
     },
     "metadata": {},
     "output_type": "display_data"
    }
   ],
   "source": [
    "recipes_per_season = (df.group_by(\"season\").agg(pl.len().alias(\"n_recipes\")).sort(\"season\").to_pandas())\n",
    "\n",
    "# Visualization\n",
    "season_order = [\"Winter\", \"Spring\", \"Summer\", \"Autumn\"]\n",
    "season_colors = {\"Winter\": \"#87CEEB\", \"Spring\": \"#90EE90\", \"Summer\": \"#FFD700\", \"Autumn\": \"#FF8C00\"}\n",
    "recipes_per_season = recipes_per_season.set_index('season').loc[season_order].reset_index()\n",
    "fig, (ax1, ax2) = plt.subplots(1, 2, figsize=(15, 4))\n",
    "\n",
    "colors = [season_colors[season] for season in recipes_per_season['season']]\n",
    "bars = ax1.bar(recipes_per_season['season'], recipes_per_season['n_recipes'], \n",
    "               color=colors, alpha=0.8, edgecolor='black', linewidth=1)\n",
    "ax1.set_title('Nombre de recettes par saison', fontsize=14, fontweight='bold')\n",
    "ax1.set_xlabel('Saison')\n",
    "ax1.set_ylabel('Nombre de recettes')\n",
    "ax1.grid(axis='y', alpha=0.3)\n",
    "for bar, val in zip(bars, recipes_per_season['n_recipes']):\n",
    "    ax1.text(bar.get_x() + bar.get_width()/2, bar.get_height() + 1000,\n",
    "             f'{val:,}', ha='center', va='bottom', fontsize=11, fontweight='bold')\n",
    "\n",
    "sizes = recipes_per_season['n_recipes']\n",
    "labels = recipes_per_season['season']\n",
    "colors_pie = [season_colors[season] for season in recipes_per_season['season']]\n",
    "wedges, texts, autotexts = ax2.pie(sizes, labels=labels, colors=colors_pie, autopct='%1.1f%%',\n",
    "                                   startangle=90, textprops={'fontsize': 11})\n",
    "ax2.set_title('Répartition saisonnière des recettes (%)', fontsize=14, fontweight='bold')\n",
    "\n",
    "plt.tight_layout()\n",
    "plt.show()"
   ]
  },
  {
   "cell_type": "markdown",
   "id": "181bf8e3",
   "metadata": {},
   "source": [
    "#### Tests statistique et interprétation"
   ]
  },
  {
   "cell_type": "code",
   "execution_count": 4,
   "id": "6c5a4793",
   "metadata": {},
   "outputs": [
    {
     "name": "stdout",
     "output_type": "stream",
     "text": [
      "Test Chi-2 (uniformité): χ² = 504.2301 (p = 0.000000)\n",
      "Répartition uniforme: ❌ Rejetée\n",
      "\n",
      "Variabilité saisonnière:\n",
      "   • Moyenne: 50016 recettes/saison\n",
      "   • Écart-type: 2899 recettes\n",
      "   • Coefficient de variation: 5.8%\n",
      "\n",
      "🔍 ÉCARTS PAR RAPPORT À LA MOYENNE:\n",
      "--------------------------------------------------\n",
      "➡️       Winter:  48,540 ( -1476,  -3.0%)\n",
      "📈       Spring:  54,343 ( +4326,  +8.7%)\n",
      "➡️       Summer:  48,952 ( -1064,  -2.1%)\n",
      "➡️       Autumn:  48,231 ( -1786,  -3.6%)\n"
     ]
    }
   ],
   "source": [
    "observed = recipes_per_season['n_recipes'].values\n",
    "expected_uniform = [recipes_per_season['n_recipes'].sum() / 4] * 4\n",
    "\n",
    "chi2_stat, chi2_p = chisquare(observed, expected_uniform)\n",
    "print(f\"Test Chi-2 (uniformité): χ² = {chi2_stat:.4f} (p = {chi2_p:.6f})\")\n",
    "print(f\"Répartition uniforme: {'❌ Rejetée' if chi2_p < 0.05 else '✅ Acceptée'}\")\n",
    "\n",
    "mean_recipes = recipes_per_season['n_recipes'].mean()\n",
    "std_recipes = recipes_per_season['n_recipes'].std()\n",
    "cv = (std_recipes / mean_recipes) * 100\n",
    "\n",
    "print(f\"\\nVariabilité saisonnière:\")\n",
    "print(f\"   • Moyenne: {mean_recipes:.0f} recettes/saison\")\n",
    "print(f\"   • Écart-type: {std_recipes:.0f} recettes\")\n",
    "print(f\"   • Coefficient de variation: {cv:.1f}%\")\n",
    "\n",
    "print(f\"\\n🔍 ÉCARTS PAR RAPPORT À LA MOYENNE:\")\n",
    "print(\"-\" * 50)\n",
    "\n",
    "for _, row in recipes_per_season.iterrows():\n",
    "    season_fr = row['season']\n",
    "    count = int(row['n_recipes'])\n",
    "    deviation = count - mean_recipes\n",
    "    deviation_pct = (deviation / mean_recipes) * 100\n",
    "    status = \"📈\" if deviation > 0 else \"📉\" if deviation < -std_recipes else \"➡️\"\n",
    "    print(f\"{status} {season_fr:>12}: {count:>7,} ({deviation:+6.0f}, {deviation_pct:+5.1f}%)\")\n"
   ]
  },
  {
   "cell_type": "markdown",
   "id": "51d66b56",
   "metadata": {},
   "source": [
    "> **💡 Interprétation statistique:** \n",
    ">  \n",
    "> Le **test du χ²** montre que la **répartition saisonnière** du nombre de recettes **n’est pas uniforme**, avec des **écarts significatifs** entre les saisons.  \n",
    ">\n",
    "> Le **printemps**, nettement au-dessus de la moyenne, indique une **saisonnalité marquée** dans la production, tandis que les autres saisons restent **relativement stables**.  \n",
    ">\n",
    "> Cette **surreprésentation printanière** explique le **rejet de l’uniformité** et souligne une **tendance saisonnière modérée** mais **statistiquement significative**.\n"
   ]
  },
  {
   "cell_type": "markdown",
   "id": "049e6b9f",
   "metadata": {},
   "source": [
    "> **💡 Interprétation business:** \n",
    ">  \n",
    "> Le **test du χ²** montre que la **répartition saisonnière** du nombre de recettes **n’est pas uniforme**, avec des **écarts significatifs** entre les saisons.  \n",
    ">\n",
    "> Le **printemps**, nettement au-dessus de la moyenne, indique une **saisonnalité marquée** dans la production, tandis que les autres saisons restent **relativement stables**.  \n",
    ">\n",
    "> Cette **surreprésentation printanière** explique le **rejet de l’uniformité** et souligne une **tendance saisonnière modérée** mais **statistiquement significative**.\n"
   ]
  },
  {
   "cell_type": "markdown",
   "id": "4199a15c",
   "metadata": {},
   "source": [
    "### Analyse 2: Évolution de la durée moyenne\n",
    "#### Visualisation"
   ]
  },
  {
   "cell_type": "code",
   "execution_count": 5,
   "id": "17e79328",
   "metadata": {},
   "outputs": [
    {
     "data": {
      "image/png": "[encoded data removed]",
      "text/plain": [
       "<Figure size 1600x600 with 2 Axes>"
      ]
     },
     "metadata": {},
     "output_type": "display_data"
    }
   ],
   "source": [
    "minutes_by_season = (df.group_by(\"season\")\n",
    "    .agg([\n",
    "        pl.mean(\"minutes\").alias(\"mean_minutes\"), pl.median(\"minutes\").alias(\"median_minutes\"),\n",
    "        pl.quantile(\"minutes\",0.25).alias(\"q25\"), pl.quantile(\"minutes\",0.75).alias(\"q75\"), pl.len().alias(\"n_recipes\")\n",
    "    ]).sort(\"season\").to_pandas().set_index(\"season\").loc[season_order].reset_index())\n",
    "minutes_by_season[\"IQR\"] = minutes_by_season[\"q75\"] - minutes_by_season[\"q25\"]\n",
    "\n",
    "fig,(ax1,ax2)=plt.subplots(1,2,figsize=(16,6))\n",
    "bar_colors=[season_colors[s] for s in minutes_by_season.season]\n",
    "ax1.bar(minutes_by_season.season, minutes_by_season.mean_minutes, color=bar_colors, alpha=.85, edgecolor='black', lw=1,label='Moyenne')\n",
    "ax1.plot(minutes_by_season.season, minutes_by_season.median_minutes, 'o--', color='black', lw=1.2, ms=6,label='Médiane')\n",
    "for s,m,med,q25,q75,_n,_iqr in minutes_by_season[['season','mean_minutes','median_minutes','q25','q75','n_recipes','IQR']].itertuples(index=False):\n",
    "    ax1.vlines(s,q25,q75,color='black',lw=3,alpha=.6); ax1.scatter([s],[q25],color='black',s=25); ax1.scatter([s],[q75],color='black',s=25)\n",
    "    ax1.text(s,m*1.03,f\"{m:.1f} m\",ha='center',va='bottom',fontsize=10,fontweight='bold')\n",
    "ax1.set_title(\"Durée des recettes par saison\",fontsize=14,fontweight='bold'); ax1.set_ylabel(\"Minutes\"); ax1.grid(axis='y',alpha=.3); ax1.legend()\n",
    "\n",
    "sns.boxplot(data=df.to_pandas(), x='season', y='minutes', order=season_order,\n",
    "            palette=[season_colors[s] for s in season_order], ax=ax2, showfliers=False)\n",
    "ax2.set_title(\"Distribution des durées (boxplot)\",fontsize=14,fontweight='bold'); ax2.set_xlabel(\"Saison\"); ax2.set_ylabel(\"Minutes\"); ax2.grid(axis='y',alpha=.3)\n",
    "\n",
    "plt.tight_layout(); \n",
    "plt.show()"
   ]
  },
  {
   "cell_type": "markdown",
   "id": "30ed59e6",
   "metadata": {},
   "source": [
    "#### Tests statistique et interprétation"
   ]
  },
  {
   "cell_type": "code",
   "execution_count": 6,
   "id": "35e912e2",
   "metadata": {},
   "outputs": [
    {
     "name": "stdout",
     "output_type": "stream",
     "text": [
      "\n",
      "Résumé statistique par saison (minutes):\n",
      "-------------------------------------------------------\n",
      "Winter   | Moy:  43.1 | Med:  35.0 | Q25:  20.0 | Q75:  60.0 | IQR:  40.0 | n=48,540\n",
      "Spring   | Moy:  41.9 | Med:  35.0 | Q25:  20.0 | Q75:  55.0 | IQR:  35.0 | n=54,343\n",
      "Summer   | Moy:  41.0 | Med:  35.0 | Q25:  20.0 | Q75:  55.0 | IQR:  35.0 | n=48,952\n",
      "Autumn   | Moy:  43.9 | Med:  35.0 | Q25:  20.0 | Q75:  60.0 | IQR:  40.0 | n=48,231\n",
      "\n",
      "Kruskal-Wallis: H=346.926, p=0.000000\n",
      "Différences significatives\n",
      "\n",
      "Kruskal-Wallis: H=346.926, p=0.000000\n",
      "Différences significatives\n"
     ]
    }
   ],
   "source": [
    "# Résumé + Test Kruskal \n",
    "print(\"\\nRésumé statistique par saison (minutes):\\n\" + \"-\"*55)\n",
    "for s,m,med,q25,q75,iqr,n in minutes_by_season[['season','mean_minutes','median_minutes','q25','q75','IQR','n_recipes']].itertuples(index=False):\n",
    "    print(f\"{s:<8} | Moy:{m:6.1f} | Med:{med:6.1f} | Q25:{q25:6.1f} | Q75:{q75:6.1f} | IQR:{iqr:6.1f} | n={n:,}\")\n",
    "    \n",
    "kw_stat, kw_p = kruskal(*[df.to_pandas().query('season==@s')['minutes'].values for s in season_order])\n",
    "print(f\"\\nKruskal-Wallis: H={kw_stat:.3f}, p={kw_p:.6f}\")\n",
    "print(f\"Différences significatives\" if kw_p<0.05 else \"Pas de différence nette\")"
   ]
  },
  {
   "cell_type": "markdown",
   "id": "aaa4652a",
   "metadata": {},
   "source": [
    "> **💡 Interprétation :**  \n",
    "> \n",
    "> Le **test de Kruskal-Wallis** (H = 346.93, p < 0.001) confirme des **différences significatives** de durée entre les saisons.  \n",
    "> \n",
    "> Les recettes sont **plus longues en automne (43.9 min)** et en **hiver (43.1 min)**, tandis qu’elles sont **plus courtes en été (41.0 min)**.  \n",
    "> \n",
    "> Cette tendance indique que les **recettes postées en périodes froides** demandent en moyenne **plus de temps de préparation**, alors que **les recettes estivales** sont **plus rapides**, probablement associées à des plats **plus simples ou légers**.  \n"
   ]
  },
  {
   "cell_type": "markdown",
   "id": "0cbd9df6",
   "metadata": {},
   "source": [
    "### Analyse 3: Évolution de la complexité\n",
    "#### Visualisation"
   ]
  },
  {
   "cell_type": "code",
   "execution_count": 23,
   "id": "572825ef",
   "metadata": {},
   "outputs": [
    {
     "ename": "SyntaxError",
     "evalue": "unexpected character after line continuation character (1023206839.py, line 6)",
     "output_type": "error",
     "traceback": [
      "  \u001b[36mCell\u001b[39m\u001b[36m \u001b[39m\u001b[32mIn[23]\u001b[39m\u001b[32m, line 6\u001b[39m\n\u001b[31m    \u001b[39m\u001b[31mpl.len().alias(\"n\")])\\n\u001b[39m\n                          ^\n\u001b[31mSyntaxError\u001b[39m\u001b[31m:\u001b[39m unexpected character after line continuation character\n"
     ]
    }
   ],
   "source": [
    "# Data: score = log1p(minutes) + n_steps + 0.5 * n_ingredients\n",
    "comp_season_year = (df.group_by([\"year\", \"season\"])\\\n",
    "    .agg([pl.mean(\"complexity_score\").alias(\"mean_complexity\"),\n",
    "           pl.median(\"complexity_score\").alias(\"median_complexity\"),\n",
    "           pl.std(\"complexity_score\").alias(\"std_complexity\"),\n",
    "           pl.len().alias(\"n\")])\\n\n",
    "    .sort([\"year\", \"season\"]).to_pandas())\n",
    "\n",
    "pivot_mc = comp_season_year.pivot(index=\"year\", columns=\"season\", values=\"mean_complexity\")[season_order]\n",
    "\n",
    "fig, ax = plt.subplots(figsize=(14,5))\n",
    "for s in season_order:\n",
    "    ax.plot(pivot_mc.index, pivot_mc[s], marker='o', linewidth=2, label=s, color=season_colors[s])\n",
    "ax.set_title(\"Évolution de la complexité moyenne par saison\", fontsize=14, fontweight='bold')\n",
    "ax.set_xlabel(\"Année\"); ax.set_ylabel(\"Complexity Score\")\n",
    "years_int = [int(y) for y in pivot_mc.index]\n",
    "ax.set_xticks(pivot_mc.index)\n",
    "ax.set_xticklabels(years_int, rotation=45)\n",
    "\n",
    "ax.grid(alpha=0.3); ax.legend(ncol=4)\n",
    "plt.tight_layout(); plt.show()"
   ]
  },
  {
   "cell_type": "markdown",
   "id": "4bf34d56",
   "metadata": {},
   "source": [
    "#### Tests statistique et interprétation"
   ]
  },
  {
   "cell_type": "code",
   "execution_count": 20,
   "id": "7bbfaef4",
   "metadata": {},
   "outputs": [
    {
     "name": "stdout",
     "output_type": "stream",
     "text": [
      "                      sum_sq        df           F         PR(>F)    eta_sq  \\\n",
      "C(season)       7.033606e+03       3.0   67.124511   2.239499e-43  0.001003   \n",
      "year            1.821307e+04       1.0  521.443716  2.886138e-115  0.002597   \n",
      "C(season):year  5.894067e+02       3.0    5.624944   7.501299e-04  0.000084   \n",
      "Residual        6.987656e+06  200058.0         NaN            NaN  0.996316   \n",
      "\n",
      "                partial_eta_sq  \n",
      "C(season)             0.001006  \n",
      "year                  0.002600  \n",
      "C(season):year        0.000084  \n",
      "Residual              0.500000  \n",
      "\n",
      "Résumé:\n",
      "Effet saison: p=2.24e-43 | eta²=0.0010 | η²_partiel=0.0010 -> Différences de niveaux ✅\n",
      "Interaction saison*année: p=0.00075 | eta²=0.0001 | η²_partiel=0.0001 -> Pentes différentes ✅\n",
      "\n",
      "Pentes temporelles par saison (Δ complexity/an):\n",
      "  Autumn: 0.1253 (référence)\n",
      "  Spring: 0.0762\n",
      "  Summer: 0.0997\n",
      "  Winter: 0.1137\n",
      "\n",
      "Niveaux moyens de complexité par saison:\n",
      "  Summer : 16.821\n",
      "  Spring : 17.052\n",
      "  Winter : 17.223\n",
      "  Autumn : 17.283\n"
     ]
    }
   ],
   "source": [
    "# ANOVA factorielle: complexity_score ~ C(season) * year\n",
    "import statsmodels.formula.api as smf\n",
    "import statsmodels.api as sm\n",
    "import pandas as pd\n",
    "import polars as pl\n",
    "\n",
    "# Préparer un DataFrame pandas propre\n",
    "season_df = df.select([\n",
    "    pl.col('complexity_score'),\n",
    "    pl.col('season'),\n",
    "    pl.col('year').cast(pl.Int32, strict=False)\n",
    "]).to_pandas()\n",
    "season_df['year'] = pd.to_numeric(season_df['year'], errors='coerce').astype(int)\n",
    "\n",
    "model_season = smf.ols('complexity_score ~ C(season) * year', data=season_df).fit()\n",
    "anova_season = sm.stats.anova_lm(model_season, typ=2)\n",
    "\n",
    "# Effets de taille\n",
    "ss_total = anova_season['sum_sq'].sum()\n",
    "ss_error = anova_season.loc['Residual','sum_sq']\n",
    "anova_season['eta_sq'] = anova_season['sum_sq'] / ss_total\n",
    "anova_season['partial_eta_sq'] = anova_season['sum_sq'] / (anova_season['sum_sq'] + ss_error)\n",
    "print(anova_season[['sum_sq','df','F','PR(>F)','eta_sq','partial_eta_sq']])\n",
    "\n",
    "p_main = anova_season.loc['C(season)','PR(>F)']\n",
    "p_inter = anova_season.loc['C(season):year','PR(>F)']\n",
    "eta_main = anova_season.loc['C(season)','eta_sq']\n",
    "eta_inter = anova_season.loc['C(season):year','eta_sq']\n",
    "pet_main = anova_season.loc['C(season)','partial_eta_sq']\n",
    "pet_inter = anova_season.loc['C(season):year','partial_eta_sq']\n",
    "\n",
    "print(\"\\nRésumé:\")\n",
    "print(f\"Effet saison: p={p_main:.3g} | eta²={eta_main:.4f} | η²_partiel={pet_main:.4f} -> {'Différences de niveaux ✅' if p_main<0.05 else 'Pas de différence ❌'}\")\n",
    "print(f\"Interaction saison*année: p={p_inter:.3g} | eta²={eta_inter:.4f} | η²_partiel={pet_inter:.4f} -> {'Pentes différentes ✅' if p_inter<0.05 else 'Pentes similaires ❌'}\")\n",
    "\n",
    "# Extraction des pentes par saison si interaction\n",
    "if p_inter < 0.05:\n",
    "    print(\"\\nPentes temporelles par saison (Δ complexity/an):\")\n",
    "    ref = sorted(season_df['season'].unique())[0]\n",
    "    base_slope = model_season.params['year']\n",
    "    print(f\"  {ref}: {base_slope:.4f} (référence)\")\n",
    "    for s in sorted(season_df['season'].unique()):\n",
    "        if s == ref: continue\n",
    "        term = f\"C(season)[T.{s}]:year\"\n",
    "        slope = base_slope + model_season.params.get(term,0.0)\n",
    "        print(f\"  {s}: {slope:.4f}\")\n",
    "else:\n",
    "    global_slope = model_season.params.get('year', float('nan'))\n",
    "    print(f\"\\nPente globale (unique): {global_slope:.4f} pts/an\")\n",
    "\n",
    "# Petit résumé des niveaux moyens par saison (centré sur complexité)\n",
    "mean_levels = season_df.groupby('season')['complexity_score'].mean().sort_values()\n",
    "print(\"\\nNiveaux moyens de complexité par saison:\")\n",
    "for s,v in mean_levels.items():\n",
    "    print(f\"  {s:<7}: {v:.3f}\")"
   ]
  },
  {
   "cell_type": "code",
   "execution_count": 22,
   "id": "58a4724a",
   "metadata": {},
   "outputs": [
    {
     "name": "stdout",
     "output_type": "stream",
     "text": [
      "ANOVA complexité (résumé non verbeux) :\n",
      "      Effet      F         p eta_sq partial_eta_sq\n",
      "     Saison  67.12  2.24e-43 0.0010         0.0010\n",
      "      Année 521.44 2.89e-115 0.0010         0.0010\n",
      "Interaction   5.62  7.50e-04 0.0001         0.0001\n",
      "\n",
      "Résumé:\n",
      "Saison: p=2.24e-43, partial_eta²=0.0010 (faible) | Année: p=2.89e-115, partial_eta²=0.0010 (faible) | Interaction: p=7.50e-04, partial_eta²=0.0001 (faible)\n"
     ]
    }
   ],
   "source": [
    "# ANOVA factorielle (version concise)\n",
    "# Suppose que les variables suivantes existent déjà dans le notebook :\n",
    "# anova_tbl (table complète), eta_season, pet_season, eta_main, pet_main, eta_inter, pet_inter\n",
    "# Si elles n'existent pas (exécution isolée), on les (re)calcule rapidement.\n",
    "\n",
    "import pandas as pd\n",
    "import statsmodels.api as sm\n",
    "import statsmodels.formula.api as smf\n",
    "\n",
    "needed = [\n",
    "    'anova_tbl','eta_season','pet_season','eta_main','pet_main','eta_inter','pet_inter'\n",
    "]\n",
    "missing = [v for v in needed if v not in globals()]\n",
    "if missing:\n",
    "    # Recalcule minimal à partir de df_anova ou reconstruction depuis df (polars)\n",
    "    if 'df_anova' not in globals():\n",
    "        # fallback conversion\n",
    "        if 'df' in globals():\n",
    "            df_anova = df.select([\n",
    "                'complexity_score','season','year'\n",
    "            ]).to_pandas()\n",
    "        else:\n",
    "            raise RuntimeError(\"Impossible de recalculer: données sources absentes.\")\n",
    "    model_season = smf.ols('complexity_score ~ C(season) * year', data=df_anova).fit()\n",
    "    anova_tbl = sm.stats.anova_lm(model_season, typ=2)\n",
    "    # Effets (eta²) & eta² partiels\n",
    "    ss_res = anova_tbl.loc['Residual','sum_sq']\n",
    "    total_ss = anova_tbl['sum_sq'].sum()\n",
    "    def eta_sq(term):\n",
    "        return anova_tbl.loc[term,'sum_sq'] / total_ss\n",
    "    def pet_eta_sq(term):\n",
    "        return anova_tbl.loc[term,'sum_sq'] / (anova_tbl.loc[term,'sum_sq'] + ss_res)\n",
    "    eta_season = eta_sq('C(season)')\n",
    "    pet_season = pet_eta_sq('C(season)')\n",
    "    eta_main = eta_sq('year')\n",
    "    pet_main = pet_eta_sq('year')\n",
    "    eta_inter = eta_sq('C(season):year')\n",
    "    pet_inter = pet_eta_sq('C(season):year')\n",
    "\n",
    "# Construction d'un résumé compact\n",
    "rows = []\n",
    "for label, eta, peta in [\n",
    "    ('Saison', eta_season, pet_season),\n",
    "    ('Année', eta_main, pet_main),\n",
    "    ('Interaction', eta_inter, pet_inter)\n",
    "]:\n",
    "    # Map vers les bons index de la table anova\n",
    "    idx_map = {\n",
    "        'Saison': 'C(season)',\n",
    "        'Année': 'year',\n",
    "        'Interaction': 'C(season):year'\n",
    "    }\n",
    "    term = idx_map[label]\n",
    "    F_val = anova_tbl.loc[term,'F']\n",
    "    p_val = anova_tbl.loc[term,'PR(>F)']\n",
    "    rows.append({\n",
    "        'Effet': label,\n",
    "        'F': F_val,\n",
    "        'p': p_val,\n",
    "        'eta_sq': eta,\n",
    "        'partial_eta_sq': peta\n",
    "    })\n",
    "compact = pd.DataFrame(rows)\n",
    "\n",
    "# Formatage lisible\n",
    "compact_fmt = compact.copy()\n",
    "compact_fmt['F'] = compact_fmt['F'].map(lambda x: f\"{x:.2f}\")\n",
    "compact_fmt['p'] = compact_fmt['p'].map(lambda x: f\"{x:.2e}\")\n",
    "compact_fmt['eta_sq'] = compact_fmt['eta_sq'].map(lambda x: f\"{x:.4f}\")\n",
    "compact_fmt['partial_eta_sq'] = compact_fmt['partial_eta_sq'].map(lambda x: f\"{x:.4f}\")\n",
    "\n",
    "print(\"ANOVA complexité (résumé non verbeux) :\")\n",
    "print(compact_fmt.to_string(index=False))\n",
    "\n",
    "# Mini interprétation automatique (optionnel)\n",
    "THRESHOLD = 0.01  # seuil arbitraire pour remarquer des effets pratiques\n",
    "notes = []\n",
    "for _, r in compact.iterrows():\n",
    "    flag = \"faible\" if r['partial_eta_sq'] < THRESHOLD else \"modéré\"\n",
    "    notes.append(f\"{r['Effet']}: p={r['p']:.2e}, partial_eta²={r['partial_eta_sq']:.4f} ({flag})\")\n",
    "print(\"\\nRésumé:\")\n",
    "print(\" | \".join(notes))\n",
    "\n",
    "# Expose aussi la DataFrame brute si besoin en aval\n",
    "anova_compact = compact\n"
   ]
  },
  {
   "cell_type": "markdown",
   "id": "657ebe79",
   "metadata": {},
   "source": [
    "> **💡 Interprétation statistique (Complexité & Saisonnalité)**  \n",
    ">  \n",
    "> Résultats ANOVA factorielle (complexity_score ~ saison * année) :  \n",
    "> • Effet principal saison significatif (p = 2.2e-43) mais η² ≈ 0.001 → la saison explique <0.1% de la variance totale (effet très faible).  \n",
    "> • Effet année très significatif (p ≈ 2.9e-115), η² ≈ 0.0026 → légère tendance générale à la hausse avec le temps.  \n",
    "> • Interaction saison*année significative (p ≈ 7.5e-04) mais η² ≈ 0.00008 → les pentes diffèrent statistiquement mais l'effet est minuscule en pratique.  \n",
    ">  \n",
    "> Pentes annuelles estimées (Δ complexité / an) :  \n",
    "> • Autumn: +0.1253  \n",
    "> • Winter: +0.1137  \n",
    "> • Summer: +0.0997  \n",
    "> • Spring: +0.0762  \n",
    ">  \n",
    "> Niveaux moyens (complexité moyenne) : Summer (16.82) < Spring (17.05) < Winter (17.22) < Autumn (17.28).  \n",
    ">  \n",
    "> ✅ Interprétation : La complexité des recettes augmente dans toutes les saisons mais un peu plus vite en automne/hiver. Les différences entre saisons existent (classement cohérent) mais les tailles d'effet sont extrêmement faibles → la significativité provient surtout du volume massif de données.  \n",
    ">  \n",
    "> 🎯 Implication pratique : Pour la modélisation ou la recommandation, la saison pourrait être incluse comme feature mais son pouvoir explicatif isolé est marginal. Le temps (année) reflète surtout une évolution structurelle (qualité, richesse des recettes).  \n",
    ">  \n",
    "> 🔎 Suites possibles : post-hoc (Tukey) pour confirmer ordres; décomposition du score (n_ingredients, n_steps, minutes) pour voir quel composant entraîne la hausse; modèle mixte avec aléa année si hétérogénéité résiduelle.  \n",
    ">  \n",
    "> ℹ️ Remarque : éviter de sur-interpréter des différences de très faible amplitude sans mise en perspective (ex: représentation graphique des tailles d'effet)."
   ]
  },
  {
   "cell_type": "markdown",
   "id": "be6e9b21",
   "metadata": {},
   "source": [
    "### Analyse 5: Évolution des ingrédients\n",
    "#### Visualisation"
   ]
  },
  {
   "cell_type": "code",
   "execution_count": null,
   "id": "6779364a",
   "metadata": {},
   "outputs": [],
   "source": []
  },
  {
   "cell_type": "markdown",
   "id": "29f89483",
   "metadata": {},
   "source": [
    "#### Tests statistique et interprétation"
   ]
  },
  {
   "cell_type": "code",
   "execution_count": null,
   "id": "3a8d61f6",
   "metadata": {},
   "outputs": [],
   "source": []
  },
  {
   "cell_type": "markdown",
   "id": "cbae0564",
   "metadata": {},
   "source": [
    "### Analyse 6: Évolution des tags\n",
    "#### Visualisation"
   ]
  },
  {
   "cell_type": "code",
   "execution_count": null,
   "id": "24a91739",
   "metadata": {},
   "outputs": [],
   "source": []
  },
  {
   "cell_type": "markdown",
   "id": "8c1a8266",
   "metadata": {},
   "source": [
    "#### Tests statistique et interprétation"
   ]
  },
  {
   "cell_type": "code",
   "execution_count": null,
   "id": "de746b99",
   "metadata": {},
   "outputs": [],
   "source": []
  }
 ],
 "metadata": {
  "kernelspec": {
   "display_name": "00-eda (3.13.7)",
   "language": "python",
   "name": "python3"
  },
  "language_info": {
   "codemirror_mode": {
    "name": "ipython",
    "version": 3
   },
   "file_extension": ".py",
   "mimetype": "text/x-python",
   "name": "python",
   "nbconvert_exporter": "python",
   "pygments_lexer": "ipython3",
   "version": "3.13.7"
  }
 },
 "nbformat": 4,
 "nbformat_minor": 5
}
