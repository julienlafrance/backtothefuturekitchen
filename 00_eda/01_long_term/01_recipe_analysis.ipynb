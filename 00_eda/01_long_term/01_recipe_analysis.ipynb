{
 "cells": [
  {
   "cell_type": "markdown",
   "id": "f99e085e",
   "metadata": {},
   "source": [
    "# 📈 Analyse Long-terme des Recettes\n",
    "\n",
    "## Objectif\n",
    "Analyser l'évolution des ratings des ingrédients sur le long terme (2000-2018) pour identifier :\n",
    "- Les tendances temporelles dans l'appréciation des ingrédients\n",
    "- Les changements de préférences alimentaires au fil des années\n",
    "- Les ingrédients émergents vs déclinants\n"
   ]
  },
  {
   "cell_type": "code",
   "execution_count": 9,
   "id": "863d9df4",
   "metadata": {},
   "outputs": [
    {
     "name": "stdout",
     "output_type": "stream",
     "text": [
      "✅ Imports réussis!\n"
     ]
    }
   ],
   "source": [
    "# Import des bibliothèques nécessaires\n",
    "import sys\n",
    "sys.path.append('..')\n",
    "\n",
    "# 🎯 Chargement des fonctions utilitaires depuis le fichier Python (plus robuste)\n",
    "from _data_utils import *\n",
    "\n",
    "# 📦 Imports et chargement des données\n",
    "import sys\n",
    "from pathlib import Path\n",
    "import pandas as pd\n",
    "import polars as pl\n",
    "import matplotlib.pyplot as plt\n",
    "import seaborn as sns\n",
    "import warnings\n",
    "warnings.filterwarnings('ignore')\n",
    "\n",
    "\n",
    "# 🎨 Configuration des graphiques\n",
    "sns.set_style(\"whitegrid\")\n",
    "plt.rcParams['figure.figsize'] = (12, 6)\n",
    "\n",
    "print(\"✅ Imports réussis!\")"
   ]
  },
  {
   "cell_type": "markdown",
   "id": "a8637a62",
   "metadata": {},
   "source": [
    "## 📊 Chargement et nettoyage des données\n",
    "\n",
    "Utilisation de `load_clean_recipes()` qui :\n",
    "- Charge la table RAW_recipes depuis DuckDB\n",
    "- Nettoie les données (supprime nulls, doublons)\n",
    "- Parse la colonne nutrition en 7 colonnes séparées\n",
    "- Ajoute les features temporelles (year, month, weekday, season, is_weekend)\n",
    "- Calcule le score de complexité"
   ]
  },
  {
   "cell_type": "code",
   "execution_count": 10,
   "id": "a39eb381",
   "metadata": {},
   "outputs": [
    {
     "name": "stdout",
     "output_type": "stream",
     "text": [
      "✅ RAW_recipes chargée (231637 lignes, 12 colonnes)\n"
     ]
    },
    {
     "ename": "SchemaError",
     "evalue": "invalid series dtype: expected `String`, got `date` for series with name `submitted`",
     "output_type": "error",
     "traceback": [
      "\u001b[31m---------------------------------------------------------------------------\u001b[39m",
      "\u001b[31mSchemaError\u001b[39m                               Traceback (most recent call last)",
      "\u001b[36mCell\u001b[39m\u001b[36m \u001b[39m\u001b[32mIn[10]\u001b[39m\u001b[32m, line 2\u001b[39m\n\u001b[32m      1\u001b[39m \u001b[38;5;66;03m# 📥 Chargement des recettes avec nettoyage automatique\u001b[39;00m\n\u001b[32m----> \u001b[39m\u001b[32m2\u001b[39m df = \u001b[43mload_clean_recipes\u001b[49m\u001b[43m(\u001b[49m\u001b[43m)\u001b[49m\n\u001b[32m      4\u001b[39m \u001b[38;5;28mprint\u001b[39m(\u001b[33mf\u001b[39m\u001b[33m\"\u001b[39m\u001b[33m✅ Recettes chargées : \u001b[39m\u001b[38;5;132;01m{\u001b[39;00mdf.shape[\u001b[32m0\u001b[39m]\u001b[38;5;132;01m:\u001b[39;00m\u001b[33m,\u001b[39m\u001b[38;5;132;01m}\u001b[39;00m\u001b[33m lignes, \u001b[39m\u001b[38;5;132;01m{\u001b[39;00mdf.shape[\u001b[32m1\u001b[39m]\u001b[38;5;132;01m}\u001b[39;00m\u001b[33m colonnes\u001b[39m\u001b[33m\"\u001b[39m)\n\u001b[32m      5\u001b[39m \u001b[38;5;28mprint\u001b[39m(\u001b[33mf\u001b[39m\u001b[33m\"\u001b[39m\u001b[33m📅 Période couverte : \u001b[39m\u001b[38;5;132;01m{\u001b[39;00mdf[\u001b[33m'\u001b[39m\u001b[33myear\u001b[39m\u001b[33m'\u001b[39m].min()\u001b[38;5;132;01m}\u001b[39;00m\u001b[33m - \u001b[39m\u001b[38;5;132;01m{\u001b[39;00mdf[\u001b[33m'\u001b[39m\u001b[33myear\u001b[39m\u001b[33m'\u001b[39m].max()\u001b[38;5;132;01m}\u001b[39;00m\u001b[33m\"\u001b[39m)\n",
      "\u001b[36mFile \u001b[39m\u001b[32m~/Desktop/Backtothefuturekitchen/backtothefuturekitchen/00_eda/_data_utils/data_utils_recipes_recipes.py:122\u001b[39m, in \u001b[36mload_clean_recipes\u001b[39m\u001b[34m(db_path)\u001b[39m\n\u001b[32m    120\u001b[39m \u001b[38;5;250m\u001b[39m\u001b[33;03m\"\"\"Charge les recettes nettoyées et enrichies prêtes à l’analyse.\"\"\"\u001b[39;00m\n\u001b[32m    121\u001b[39m df_raw = load_recipes_raw(db_path)\n\u001b[32m--> \u001b[39m\u001b[32m122\u001b[39m \u001b[38;5;28;01mreturn\u001b[39;00m \u001b[43mclean_and_enrich_recipes\u001b[49m\u001b[43m(\u001b[49m\u001b[43mdf_raw\u001b[49m\u001b[43m)\u001b[49m\n",
      "\u001b[36mFile \u001b[39m\u001b[32m~/Desktop/Backtothefuturekitchen/backtothefuturekitchen/00_eda/_data_utils/data_utils_recipes_recipes.py:113\u001b[39m, in \u001b[36mclean_and_enrich_recipes\u001b[39m\u001b[34m(df)\u001b[39m\n\u001b[32m    107\u001b[39m cleaned = df.drop_nulls(subset=[\u001b[33m\"\u001b[39m\u001b[33mname\u001b[39m\u001b[33m\"\u001b[39m, \u001b[33m\"\u001b[39m\u001b[33msubmitted\u001b[39m\u001b[33m\"\u001b[39m])\n\u001b[32m    108\u001b[39m cleaned = cleaned.unique()\n\u001b[32m    110\u001b[39m enriched = (\n\u001b[32m    111\u001b[39m     \u001b[43mcleaned\u001b[49m\n\u001b[32m    112\u001b[39m \u001b[43m    \u001b[49m\u001b[43m.\u001b[49m\u001b[43mpipe\u001b[49m\u001b[43m(\u001b[49m\u001b[43mparse_nutrition_column\u001b[49m\u001b[43m)\u001b[49m\n\u001b[32m--> \u001b[39m\u001b[32m113\u001b[39m \u001b[43m    \u001b[49m\u001b[43m.\u001b[49m\u001b[43mpipe\u001b[49m\u001b[43m(\u001b[49m\u001b[43madd_recipe_time_features\u001b[49m\u001b[43m)\u001b[49m\n\u001b[32m    114\u001b[39m     .pipe(compute_recipe_complexity)\n\u001b[32m    115\u001b[39m )\n\u001b[32m    116\u001b[39m \u001b[38;5;28mprint\u001b[39m(\u001b[33mf\u001b[39m\u001b[33m\"\u001b[39m\u001b[33m✅ Recettes nettoyées et enrichies : \u001b[39m\u001b[38;5;132;01m{\u001b[39;00menriched.shape\u001b[38;5;132;01m}\u001b[39;00m\u001b[33m\"\u001b[39m)\n\u001b[32m    117\u001b[39m \u001b[38;5;28;01mreturn\u001b[39;00m enriched\n",
      "\u001b[36mFile \u001b[39m\u001b[32m~/Desktop/Backtothefuturekitchen/backtothefuturekitchen/00_eda/.venv/lib/python3.13/site-packages/polars/dataframe/frame.py:6572\u001b[39m, in \u001b[36mDataFrame.pipe\u001b[39m\u001b[34m(self, function, *args, **kwargs)\u001b[39m\n\u001b[32m   6507\u001b[39m \u001b[38;5;28;01mdef\u001b[39;00m\u001b[38;5;250m \u001b[39m\u001b[34mpipe\u001b[39m(\n\u001b[32m   6508\u001b[39m     \u001b[38;5;28mself\u001b[39m,\n\u001b[32m   6509\u001b[39m     function: Callable[Concatenate[DataFrame, P], T],\n\u001b[32m   6510\u001b[39m     *args: P.args,\n\u001b[32m   6511\u001b[39m     **kwargs: P.kwargs,\n\u001b[32m   6512\u001b[39m ) -> T:\n\u001b[32m   6513\u001b[39m \u001b[38;5;250m    \u001b[39m\u001b[33;03m\"\"\"\u001b[39;00m\n\u001b[32m   6514\u001b[39m \u001b[33;03m    Offers a structured way to apply a sequence of user-defined functions (UDFs).\u001b[39;00m\n\u001b[32m   6515\u001b[39m \n\u001b[32m   (...)\u001b[39m\u001b[32m   6570\u001b[39m \u001b[33;03m    └─────┴─────┘\u001b[39;00m\n\u001b[32m   6571\u001b[39m \u001b[33;03m    \"\"\"\u001b[39;00m\n\u001b[32m-> \u001b[39m\u001b[32m6572\u001b[39m     \u001b[38;5;28;01mreturn\u001b[39;00m \u001b[43mfunction\u001b[49m\u001b[43m(\u001b[49m\u001b[38;5;28;43mself\u001b[39;49m\u001b[43m,\u001b[49m\u001b[43m \u001b[49m\u001b[43m*\u001b[49m\u001b[43margs\u001b[49m\u001b[43m,\u001b[49m\u001b[43m \u001b[49m\u001b[43m*\u001b[49m\u001b[43m*\u001b[49m\u001b[43mkwargs\u001b[49m\u001b[43m)\u001b[49m\n",
      "\u001b[36mFile \u001b[39m\u001b[32m~/Desktop/Backtothefuturekitchen/backtothefuturekitchen/00_eda/_data_utils/data_utils_recipes_recipes.py:87\u001b[39m, in \u001b[36madd_recipe_time_features\u001b[39m\u001b[34m(df)\u001b[39m\n\u001b[32m     84\u001b[39m     \u001b[38;5;28;01mreturn\u001b[39;00m df\n\u001b[32m     86\u001b[39m \u001b[38;5;66;03m# Parse la date de soumission en datetime\u001b[39;00m\n\u001b[32m---> \u001b[39m\u001b[32m87\u001b[39m df = \u001b[43mdf\u001b[49m\u001b[43m.\u001b[49m\u001b[43mwith_columns\u001b[49m\u001b[43m(\u001b[49m\u001b[43m[\u001b[49m\n\u001b[32m     88\u001b[39m \u001b[43m    \u001b[49m\u001b[43mpl\u001b[49m\u001b[43m.\u001b[49m\u001b[43mcol\u001b[49m\u001b[43m(\u001b[49m\u001b[33;43m\"\u001b[39;49m\u001b[33;43msubmitted\u001b[39;49m\u001b[33;43m\"\u001b[39;49m\u001b[43m)\u001b[49m\u001b[43m.\u001b[49m\u001b[43mstr\u001b[49m\u001b[43m.\u001b[49m\u001b[43mstrptime\u001b[49m\u001b[43m(\u001b[49m\u001b[43mpl\u001b[49m\u001b[43m.\u001b[49m\u001b[43mDate\u001b[49m\u001b[43m,\u001b[49m\u001b[43m \u001b[49m\u001b[33;43m\"\u001b[39;49m\u001b[33;43m%\u001b[39;49m\u001b[33;43mY-\u001b[39;49m\u001b[33;43m%\u001b[39;49m\u001b[33;43mm-\u001b[39;49m\u001b[38;5;132;43;01m%d\u001b[39;49;00m\u001b[33;43m\"\u001b[39;49m\u001b[43m,\u001b[49m\u001b[43m \u001b[49m\u001b[43mstrict\u001b[49m\u001b[43m=\u001b[49m\u001b[38;5;28;43;01mFalse\u001b[39;49;00m\u001b[43m)\u001b[49m\u001b[43m.\u001b[49m\u001b[43malias\u001b[49m\u001b[43m(\u001b[49m\u001b[33;43m\"\u001b[39;49m\u001b[33;43mdate\u001b[39;49m\u001b[33;43m\"\u001b[39;49m\u001b[43m)\u001b[49m\n\u001b[32m     89\u001b[39m \u001b[43m\u001b[49m\u001b[43m]\u001b[49m\u001b[43m)\u001b[49m\n\u001b[32m     91\u001b[39m \u001b[38;5;66;03m# Réutiliser la fonction commune pour les features calendaires\u001b[39;00m\n\u001b[32m     92\u001b[39m \u001b[38;5;28;01mreturn\u001b[39;00m add_calendar_features(df, date_col=\u001b[33m\"\u001b[39m\u001b[33mdate\u001b[39m\u001b[33m\"\u001b[39m)\n",
      "\u001b[36mFile \u001b[39m\u001b[32m~/Desktop/Backtothefuturekitchen/backtothefuturekitchen/00_eda/.venv/lib/python3.13/site-packages/polars/dataframe/frame.py:10172\u001b[39m, in \u001b[36mDataFrame.with_columns\u001b[39m\u001b[34m(self, *exprs, **named_exprs)\u001b[39m\n\u001b[32m  10045\u001b[39m \u001b[38;5;250m\u001b[39m\u001b[33;03m\"\"\"\u001b[39;00m\n\u001b[32m  10046\u001b[39m \u001b[33;03mAdd columns to this DataFrame.\u001b[39;00m\n\u001b[32m  10047\u001b[39m \n\u001b[32m   (...)\u001b[39m\u001b[32m  10165\u001b[39m \u001b[33;03m└─────┴──────┴───────┴──────┴───────┘\u001b[39;00m\n\u001b[32m  10166\u001b[39m \u001b[33;03m\"\"\"\u001b[39;00m\n\u001b[32m  10167\u001b[39m \u001b[38;5;28;01mfrom\u001b[39;00m\u001b[38;5;250m \u001b[39m\u001b[34;01mpolars\u001b[39;00m\u001b[34;01m.\u001b[39;00m\u001b[34;01mlazyframe\u001b[39;00m\u001b[34;01m.\u001b[39;00m\u001b[34;01mopt_flags\u001b[39;00m\u001b[38;5;250m \u001b[39m\u001b[38;5;28;01mimport\u001b[39;00m QueryOptFlags\n\u001b[32m  10169\u001b[39m \u001b[38;5;28;01mreturn\u001b[39;00m (\n\u001b[32m  10170\u001b[39m     \u001b[38;5;28;43mself\u001b[39;49m\u001b[43m.\u001b[49m\u001b[43mlazy\u001b[49m\u001b[43m(\u001b[49m\u001b[43m)\u001b[49m\n\u001b[32m  10171\u001b[39m \u001b[43m    \u001b[49m\u001b[43m.\u001b[49m\u001b[43mwith_columns\u001b[49m\u001b[43m(\u001b[49m\u001b[43m*\u001b[49m\u001b[43mexprs\u001b[49m\u001b[43m,\u001b[49m\u001b[43m \u001b[49m\u001b[43m*\u001b[49m\u001b[43m*\u001b[49m\u001b[43mnamed_exprs\u001b[49m\u001b[43m)\u001b[49m\n\u001b[32m> \u001b[39m\u001b[32m10172\u001b[39m \u001b[43m    \u001b[49m\u001b[43m.\u001b[49m\u001b[43mcollect\u001b[49m\u001b[43m(\u001b[49m\u001b[43moptimizations\u001b[49m\u001b[43m=\u001b[49m\u001b[43mQueryOptFlags\u001b[49m\u001b[43m.\u001b[49m\u001b[43m_eager\u001b[49m\u001b[43m(\u001b[49m\u001b[43m)\u001b[49m\u001b[43m)\u001b[49m\n\u001b[32m  10173\u001b[39m )\n",
      "\u001b[36mFile \u001b[39m\u001b[32m~/Desktop/Backtothefuturekitchen/backtothefuturekitchen/00_eda/.venv/lib/python3.13/site-packages/polars/_utils/deprecation.py:97\u001b[39m, in \u001b[36mdeprecate_streaming_parameter.<locals>.decorate.<locals>.wrapper\u001b[39m\u001b[34m(*args, **kwargs)\u001b[39m\n\u001b[32m     93\u001b[39m         kwargs[\u001b[33m\"\u001b[39m\u001b[33mengine\u001b[39m\u001b[33m\"\u001b[39m] = \u001b[33m\"\u001b[39m\u001b[33min-memory\u001b[39m\u001b[33m\"\u001b[39m\n\u001b[32m     95\u001b[39m     \u001b[38;5;28;01mdel\u001b[39;00m kwargs[\u001b[33m\"\u001b[39m\u001b[33mstreaming\u001b[39m\u001b[33m\"\u001b[39m]\n\u001b[32m---> \u001b[39m\u001b[32m97\u001b[39m \u001b[38;5;28;01mreturn\u001b[39;00m \u001b[43mfunction\u001b[49m\u001b[43m(\u001b[49m\u001b[43m*\u001b[49m\u001b[43margs\u001b[49m\u001b[43m,\u001b[49m\u001b[43m \u001b[49m\u001b[43m*\u001b[49m\u001b[43m*\u001b[49m\u001b[43mkwargs\u001b[49m\u001b[43m)\u001b[49m\n",
      "\u001b[36mFile \u001b[39m\u001b[32m~/Desktop/Backtothefuturekitchen/backtothefuturekitchen/00_eda/.venv/lib/python3.13/site-packages/polars/lazyframe/opt_flags.py:328\u001b[39m, in \u001b[36mforward_old_opt_flags.<locals>.decorate.<locals>.wrapper\u001b[39m\u001b[34m(*args, **kwargs)\u001b[39m\n\u001b[32m    325\u001b[39m         optflags = cb(optflags, kwargs.pop(key))  \u001b[38;5;66;03m# type: ignore[no-untyped-call,unused-ignore]\u001b[39;00m\n\u001b[32m    327\u001b[39m kwargs[\u001b[33m\"\u001b[39m\u001b[33moptimizations\u001b[39m\u001b[33m\"\u001b[39m] = optflags\n\u001b[32m--> \u001b[39m\u001b[32m328\u001b[39m \u001b[38;5;28;01mreturn\u001b[39;00m \u001b[43mfunction\u001b[49m\u001b[43m(\u001b[49m\u001b[43m*\u001b[49m\u001b[43margs\u001b[49m\u001b[43m,\u001b[49m\u001b[43m \u001b[49m\u001b[43m*\u001b[49m\u001b[43m*\u001b[49m\u001b[43mkwargs\u001b[49m\u001b[43m)\u001b[49m\n",
      "\u001b[36mFile \u001b[39m\u001b[32m~/Desktop/Backtothefuturekitchen/backtothefuturekitchen/00_eda/.venv/lib/python3.13/site-packages/polars/lazyframe/frame.py:2415\u001b[39m, in \u001b[36mLazyFrame.collect\u001b[39m\u001b[34m(self, type_coercion, predicate_pushdown, projection_pushdown, simplify_expression, slice_pushdown, comm_subplan_elim, comm_subexpr_elim, cluster_with_columns, collapse_joins, no_optimization, engine, background, optimizations, **_kwargs)\u001b[39m\n\u001b[32m   2413\u001b[39m \u001b[38;5;66;03m# Only for testing purposes\u001b[39;00m\n\u001b[32m   2414\u001b[39m callback = _kwargs.get(\u001b[33m\"\u001b[39m\u001b[33mpost_opt_callback\u001b[39m\u001b[33m\"\u001b[39m, callback)\n\u001b[32m-> \u001b[39m\u001b[32m2415\u001b[39m \u001b[38;5;28;01mreturn\u001b[39;00m wrap_df(\u001b[43mldf\u001b[49m\u001b[43m.\u001b[49m\u001b[43mcollect\u001b[49m\u001b[43m(\u001b[49m\u001b[43mengine\u001b[49m\u001b[43m,\u001b[49m\u001b[43m \u001b[49m\u001b[43mcallback\u001b[49m\u001b[43m)\u001b[49m)\n",
      "\u001b[31mSchemaError\u001b[39m: invalid series dtype: expected `String`, got `date` for series with name `submitted`"
     ]
    }
   ],
   "source": [
    "# 📥 Chargement des recettes avec nettoyage automatique\n",
    "df = load_clean_recipes()\n",
    "\n",
    "print(f\"✅ Recettes chargées : {df.shape[0]:,} lignes, {df.shape[1]} colonnes\")\n",
    "print(f\"📅 Période couverte : {df['year'].min()} - {df['year'].max()}\")\n",
    "print(f\"\\n📋 Colonnes disponibles :\")\n",
    "print(df.columns)"
   ]
  },
  {
   "cell_type": "markdown",
   "id": "b2abc7c8",
   "metadata": {},
   "source": [
    "## 🔍 Analyse de la qualité des données\n",
    "\n",
    "Vérification rapide de la qualité des données chargées."
   ]
  },
  {
   "cell_type": "code",
   "execution_count": null,
   "id": "684fd3ce",
   "metadata": {},
   "outputs": [],
   "source": [
    "# 🔬 Rapport de qualité automatique\n",
    "quality_report = analyze_recipe_quality(df)\n",
    "\n",
    "# Afficher un aperçu des données\n",
    "print(f\"\\n📊 Aperçu des données :\")\n",
    "df.head(3)"
   ]
  },
  {
   "cell_type": "markdown",
   "id": "b2c451c7",
   "metadata": {},
   "source": [
    "## 📈 Analyse 1 : Volume de recettes dans le temps\n",
    "\n",
    "Analyser l'évolution du nombre de recettes soumises par année, mois, weekend/weekday, et saison."
   ]
  },
  {
   "cell_type": "code",
   "execution_count": null,
   "id": "79b1759b",
   "metadata": {},
   "outputs": [],
   "source": [
    "# 📊 Agrégation des données par dimensions temporelles\n",
    "by_year = df.group_by(\"year\").len().sort(\"year\").to_pandas()\n",
    "by_month = df.group_by(\"month\").len().sort(\"month\").to_pandas()\n",
    "by_weekend = df.group_by(\"is_weekend\").len().sort(\"is_weekend\").to_pandas()\n",
    "by_season = df.group_by(\"season\").len().sort(\"season\").to_pandas()\n",
    "\n",
    "# 🎨 Visualisation 4 graphiques\n",
    "fig, axes = plt.subplots(2, 2, figsize=(14, 10))\n",
    "\n",
    "# 1. Volume par année\n",
    "sns.barplot(data=by_year, x=\"year\", y=\"len\", color=\"green\", ax=axes[0,0])\n",
    "axes[0,0].set_title(\"📅 Nombre de recettes par année\", fontsize=12, fontweight='bold')\n",
    "axes[0,0].set_xlabel(\"Année\")\n",
    "axes[0,0].set_ylabel(\"Nombre de recettes\")\n",
    "axes[0,0].tick_params(axis='x', rotation=45, labelsize=8)\n",
    "\n",
    "# 2. Volume par mois\n",
    "sns.barplot(data=by_month, x=\"month\", y=\"len\", ax=axes[0,1])\n",
    "axes[0,1].set_title(\"📆 Nombre de recettes par mois\", fontsize=12, fontweight='bold')\n",
    "axes[0,1].set_xlabel(\"Mois\")\n",
    "axes[0,1].set_ylabel(\"Nombre de recettes\")\n",
    "\n",
    "# 3. Weekend vs Weekday\n",
    "by_weekend['label'] = by_weekend['is_weekend'].map({0: 'Weekday', 1: 'Weekend'})\n",
    "sns.barplot(data=by_weekend, x=\"label\", y=\"len\", palette=[\"skyblue\", \"orange\"], ax=axes[1,0])\n",
    "axes[1,0].set_title(\"📌 Weekday vs Weekend\", fontsize=12, fontweight='bold')\n",
    "axes[1,0].set_xlabel(\"\")\n",
    "axes[1,0].set_ylabel(\"Nombre de recettes\")\n",
    "\n",
    "# 4. Volume par saison\n",
    "sns.barplot(data=by_season, x=\"season\", y=\"len\", palette=\"Set2\", ax=axes[1,1])\n",
    "axes[1,1].set_title(\"🌸 Nombre de recettes par saison\", fontsize=12, fontweight='bold')\n",
    "axes[1,1].set_xlabel(\"Saison\")\n",
    "axes[1,1].set_ylabel(\"Nombre de recettes\")\n",
    "\n",
    "plt.tight_layout()\n",
    "plt.show()\n",
    "\n",
    "print(f\"📊 Résumé : {df.shape[0]:,} recettes entre {df['year'].min()} et {df['year'].max()}\")"
   ]
  },
  {
   "cell_type": "markdown",
   "id": "9cd8f8ad",
   "metadata": {},
   "source": [
    "## ⏱️ Analyse 2 : Temps de préparation moyen (minutes)\n",
    "\n",
    "Analyser comment le temps moyen de préparation des recettes évolue dans le temps.\n",
    "\n",
    "**Note** : La fonction `load_clean_recipes()` filtre automatiquement :\n",
    "- Les recettes avec `minutes <= 0`\n",
    "- Les recettes avec `minutes > 180` (plus de 3 heures)"
   ]
  },
  {
   "cell_type": "code",
   "execution_count": null,
   "id": "57655423",
   "metadata": {},
   "outputs": [],
   "source": [
    "# 📊 Calcul des temps moyens par dimension temporelle\n",
    "avg_year = df.group_by(\"year\").agg(pl.col(\"minutes\").mean().alias(\"avg_minutes\")).sort(\"year\").to_pandas()\n",
    "avg_month = df.group_by(\"month\").agg(pl.col(\"minutes\").mean().alias(\"avg_minutes\")).sort(\"month\").to_pandas()\n",
    "avg_weekend = df.group_by(\"is_weekend\").agg(pl.col(\"minutes\").mean().alias(\"avg_minutes\")).sort(\"is_weekend\").to_pandas()\n",
    "avg_season = df.group_by(\"season\").agg(pl.col(\"minutes\").mean().alias(\"avg_minutes\")).sort(\"season\").to_pandas()\n",
    "\n",
    "# 🎨 Visualisation 4 graphiques\n",
    "fig, axes = plt.subplots(2, 2, figsize=(14, 10))\n",
    "\n",
    "# 1. Temps moyen par année\n",
    "sns.barplot(data=avg_year, x=\"year\", y=\"avg_minutes\", color=\"skyblue\", ax=axes[0,0])\n",
    "axes[0,0].set_title(\"⏱️ Temps moyen par année\", fontsize=12, fontweight='bold')\n",
    "axes[0,0].set_xlabel(\"Année\")\n",
    "axes[0,0].set_ylabel(\"Temps moyen (minutes)\")\n",
    "axes[0,0].tick_params(axis='x', rotation=45, labelsize=8)\n",
    "\n",
    "# 2. Temps moyen par mois\n",
    "sns.barplot(data=avg_month, x=\"month\", y=\"avg_minutes\", color=\"orange\", ax=axes[0,1])\n",
    "axes[0,1].set_title(\"⏱️ Temps moyen par mois\", fontsize=12, fontweight='bold')\n",
    "axes[0,1].set_xlabel(\"Mois\")\n",
    "axes[0,1].set_ylabel(\"Temps moyen (minutes)\")\n",
    "\n",
    "# 3. Weekday vs Weekend\n",
    "avg_weekend['label'] = avg_weekend['is_weekend'].map({0: 'Weekday', 1: 'Weekend'})\n",
    "sns.barplot(data=avg_weekend, x=\"label\", y=\"avg_minutes\", palette=[\"lightgreen\", \"coral\"], ax=axes[1,0])\n",
    "axes[1,0].set_title(\"⏱️ Temps moyen Weekday vs Weekend\", fontsize=12, fontweight='bold')\n",
    "axes[1,0].set_xlabel(\"\")\n",
    "axes[1,0].set_ylabel(\"Temps moyen (minutes)\")\n",
    "\n",
    "# 4. Temps moyen par saison\n",
    "sns.barplot(data=avg_season, x=\"season\", y=\"avg_minutes\", palette=\"viridis\", ax=axes[1,1])\n",
    "axes[1,1].set_title(\"⏱️ Temps moyen par saison\", fontsize=12, fontweight='bold')\n",
    "axes[1,1].set_xlabel(\"Saison\")\n",
    "axes[1,1].set_ylabel(\"Temps moyen (minutes)\")\n",
    "\n",
    "plt.tight_layout()\n",
    "plt.show()\n",
    "\n",
    "print(f\"⏱️ Temps moyen global : {df['minutes'].mean():.1f} minutes\")\n",
    "print(f\"📊 Médiane : {df['minutes'].median():.1f} minutes\")"
   ]
  },
  {
   "cell_type": "markdown",
   "id": "a123373d",
   "metadata": {},
   "source": [
    "## 🔥 Analyse 3 : Évolution des calories moyennes\n",
    "\n",
    "Analyser l'évolution nutritionnelle des recettes dans le temps.\n",
    "\n",
    "**Note** : Les colonnes nutritionnelles ont été automatiquement parsées par `load_clean_recipes()` :\n",
    "- `calories`, `total_fat_pct`, `sugar_pct`, `sodium_pct`, `protein_pct`, `sat_fat_pct`, `carb_pct`"
   ]
  },
  {
   "cell_type": "code",
   "execution_count": null,
   "id": "3ca4eef0",
   "metadata": {},
   "outputs": [],
   "source": [
    "# 📊 Calories moyennes par année\n",
    "calories_year = df.group_by(\"year\").agg(pl.col(\"calories\").mean().alias(\"avg_calories\")).sort(\"year\").to_pandas()\n",
    "\n",
    "# 🎨 Visualisation avec ligne de tendance\n",
    "fig, ax = plt.subplots(figsize=(14, 6))\n",
    "\n",
    "# Barres\n",
    "sns.barplot(data=calories_year, x=\"year\", y=\"avg_calories\", color=\"tomato\", ax=ax)\n",
    "\n",
    "# Ligne de tendance\n",
    "ax.plot(calories_year.index, calories_year['avg_calories'], color='darkred', linewidth=2, marker='o', label='Tendance')\n",
    "\n",
    "ax.set_title(\"🔥 Évolution des calories moyennes par année\", fontsize=14, fontweight='bold')\n",
    "ax.set_xlabel(\"Année\", fontsize=12)\n",
    "ax.set_ylabel(\"Calories moyennes\", fontsize=12)\n",
    "ax.tick_params(axis='x', rotation=45, labelsize=9)\n",
    "ax.legend()\n",
    "ax.grid(True, alpha=0.3)\n",
    "\n",
    "plt.tight_layout()\n",
    "plt.show()\n",
    "\n",
    "# 📊 Statistiques\n",
    "print(f\"🔥 Calories en {calories_year.iloc[0]['year']:.0f} : {calories_year.iloc[0]['avg_calories']:.1f} kcal\")\n",
    "print(f\"🔥 Calories en {calories_year.iloc[-1]['year']:.0f} : {calories_year.iloc[-1]['avg_calories']:.1f} kcal\")\n",
    "variation = ((calories_year.iloc[-1]['avg_calories'] - calories_year.iloc[0]['avg_calories']) / calories_year.iloc[0]['avg_calories'] * 100)\n",
    "print(f\"📈 Variation : {variation:+.1f}%\")"
   ]
  },
  {
   "cell_type": "markdown",
   "id": "3a638211",
   "metadata": {},
   "source": [
    "## 🎯 Analyse 4 : Score de complexité des recettes\n",
    "\n",
    "Le score de complexité est calculé automatiquement par `compute_recipe_complexity()` :\n",
    "\n",
    "$$\\text{complexity\\_score} = \\frac{\\text{minutes}}{10} + \\text{n\\_steps} + \\text{n\\_ingredients} \\times 0.5$$\n",
    "\n",
    "Plus le score est élevé, plus la recette est complexe."
   ]
  },
  {
   "cell_type": "code",
   "execution_count": null,
   "id": "7799f9d3",
   "metadata": {},
   "outputs": [],
   "source": [
    "# 📊 Complexité moyenne par année\n",
    "complexity_year = df.group_by(\"year\").agg(\n",
    "    pl.col(\"complexity_score\").mean().alias(\"avg_complexity\")\n",
    ").sort(\"year\").to_pandas()\n",
    "\n",
    "# 🎨 Visualisation\n",
    "fig, ax = plt.subplots(figsize=(14, 6))\n",
    "\n",
    "ax.plot(complexity_year['year'], complexity_year['avg_complexity'], \n",
    "        marker='o', linewidth=2.5, color='purple', markersize=8)\n",
    "ax.fill_between(complexity_year['year'], complexity_year['avg_complexity'], alpha=0.3, color='purple')\n",
    "\n",
    "ax.set_title(\"🎯 Évolution du score de complexité moyen\", fontsize=14, fontweight='bold')\n",
    "ax.set_xlabel(\"Année\", fontsize=12)\n",
    "ax.set_ylabel(\"Score de complexité moyen\", fontsize=12)\n",
    "ax.grid(True, alpha=0.4)\n",
    "ax.tick_params(axis='x', rotation=45)\n",
    "\n",
    "plt.tight_layout()\n",
    "plt.show()\n",
    "\n",
    "# 📊 Statistiques descriptives\n",
    "print(f\"📊 Score de complexité :\")\n",
    "print(f\"   Minimum : {df['complexity_score'].min():.2f}\")\n",
    "print(f\"   Maximum : {df['complexity_score'].max():.2f}\")\n",
    "print(f\"   Moyenne : {df['complexity_score'].mean():.2f}\")\n",
    "print(f\"   Médiane : {df['complexity_score'].median():.2f}\")"
   ]
  },
  {
   "cell_type": "markdown",
   "id": "fc605a84",
   "metadata": {},
   "source": [
    "## 📊 Analyse 5 : Distribution du nombre d'ingrédients\n",
    "\n",
    "Explorer la distribution du nombre d'ingrédients par recette."
   ]
  },
  {
   "cell_type": "code",
   "execution_count": null,
   "id": "f4f92d78",
   "metadata": {},
   "outputs": [],
   "source": [
    "# 📊 Distribution + évolution temporelle\n",
    "fig, (ax1, ax2) = plt.subplots(1, 2, figsize=(16, 6))\n",
    "\n",
    "# 1. Histogramme de distribution\n",
    "df['n_ingredients'].to_pandas().hist(bins=30, edgecolor='black', color='steelblue', ax=ax1)\n",
    "ax1.axvline(df['n_ingredients'].median(), color='red', linestyle='--', linewidth=2, label=f\"Médiane: {df['n_ingredients'].median()}\")\n",
    "ax1.axvline(df['n_ingredients'].mean(), color='orange', linestyle='--', linewidth=2, label=f\"Moyenne: {df['n_ingredients'].mean():.1f}\")\n",
    "ax1.set_title(\"📊 Distribution du nombre d'ingrédients\", fontsize=12, fontweight='bold')\n",
    "ax1.set_xlabel(\"Nombre d'ingrédients\")\n",
    "ax1.set_ylabel(\"Fréquence\")\n",
    "ax1.legend()\n",
    "ax1.grid(True, alpha=0.3)\n",
    "\n",
    "# 2. Évolution du nombre moyen d'ingrédients par année\n",
    "ingredients_year = df.group_by(\"year\").agg(\n",
    "    pl.col(\"n_ingredients\").mean().alias(\"avg_ingredients\")\n",
    ").sort(\"year\").to_pandas()\n",
    "\n",
    "ax2.plot(ingredients_year['year'], ingredients_year['avg_ingredients'], \n",
    "         marker='s', linewidth=2, color='forestgreen', markersize=7)\n",
    "ax2.set_title(\"📈 Évolution du nombre moyen d'ingrédients par année\", fontsize=12, fontweight='bold')\n",
    "ax2.set_xlabel(\"Année\")\n",
    "ax2.set_ylabel(\"Nombre moyen d'ingrédients\")\n",
    "ax2.grid(True, alpha=0.3)\n",
    "ax2.tick_params(axis='x', rotation=45)\n",
    "\n",
    "plt.tight_layout()\n",
    "plt.show()\n",
    "\n",
    "print(f\"🥕 Nombre d'ingrédients :\")\n",
    "print(f\"   Médiane : {df['n_ingredients'].median()}\")\n",
    "print(f\"   Moyenne : {df['n_ingredients'].mean():.1f}\")\n",
    "print(f\"   Min : {df['n_ingredients'].min()}\")\n",
    "print(f\"   Max : {df['n_ingredients'].max()}\")"
   ]
  },
  {
   "cell_type": "markdown",
   "id": "398d836a",
   "metadata": {},
   "source": [
    "## 🎁 Résumé des insights\n",
    "\n",
    "### 📌 Principales observations\n",
    "\n",
    "Synthèse des tendances observées dans l'analyse long-terme des recettes."
   ]
  },
  {
   "cell_type": "code",
   "execution_count": null,
   "id": "ad0e8e44",
   "metadata": {},
   "outputs": [],
   "source": [
    "# 📝 Génération automatique du résumé\n",
    "print(\"=\" * 70)\n",
    "print(\"📊 RAPPORT D'ANALYSE - RECETTES (2000-2018)\")\n",
    "print(\"=\" * 70)\n",
    "print(f\"\\n📦 Volume de données :\")\n",
    "print(f\"   • Total recettes analysées : {df.shape[0]:,}\")\n",
    "print(f\"   • Période : {df['year'].min()} - {df['year'].max()}\")\n",
    "print(f\"   • Colonnes disponibles : {df.shape[1]}\")\n",
    "\n",
    "print(f\"\\n⏱️  Temps de préparation :\")\n",
    "print(f\"   • Moyenne : {df['minutes'].mean():.1f} minutes\")\n",
    "print(f\"   • Médiane : {df['minutes'].median():.1f} minutes\")\n",
    "\n",
    "print(f\"\\n🔥 Nutrition :\")\n",
    "print(f\"   • Calories moyennes : {df['calories'].mean():.1f} kcal\")\n",
    "print(f\"   • Variation 2000→2018 : {((calories_year.iloc[-1]['avg_calories'] - calories_year.iloc[0]['avg_calories']) / calories_year.iloc[0]['avg_calories'] * 100):+.1f}%\")\n",
    "\n",
    "print(f\"\\n🎯 Complexité :\")\n",
    "print(f\"   • Score moyen : {df['complexity_score'].mean():.2f}\")\n",
    "print(f\"   • Médiane : {df['complexity_score'].median():.2f}\")\n",
    "\n",
    "print(f\"\\n🥕 Ingrédients :\")\n",
    "print(f\"   • Nombre moyen : {df['n_ingredients'].mean():.1f}\")\n",
    "print(f\"   • Médiane : {df['n_ingredients'].median()}\")\n",
    "\n",
    "print(f\"\\n📅 Saisonnalité :\")\n",
    "season_counts = df.group_by(\"season\").len().sort(\"len\", descending=True).to_pandas()\n",
    "for idx, row in season_counts.iterrows():\n",
    "    pct = (row['len'] / df.shape[0] * 100)\n",
    "    print(f\"   • {row['season']}: {row['len']:,} recettes ({pct:.1f}%)\")\n",
    "\n",
    "print(f\"\\n🔄 Weekend vs Weekday :\")\n",
    "weekend_counts = df.group_by(\"is_weekend\").len().to_pandas()\n",
    "for idx, row in weekend_counts.iterrows():\n",
    "    label = \"Weekend\" if row['is_weekend'] == 1 else \"Weekday\"\n",
    "    pct = (row['len'] / df.shape[0] * 100)\n",
    "    print(f\"   • {label}: {row['len']:,} recettes ({pct:.1f}%)\")\n",
    "\n",
    "print(\"\\n\" + \"=\" * 70)\n",
    "print(\"✅ Analyse terminée avec succès !\")\n",
    "print(\"=\" * 70)"
   ]
  }
 ],
 "metadata": {
  "kernelspec": {
   "display_name": "00-eda (3.13.7)",
   "language": "python",
   "name": "python3"
  },
  "language_info": {
   "codemirror_mode": {
    "name": "ipython",
    "version": 3
   },
   "file_extension": ".py",
   "mimetype": "text/x-python",
   "name": "python",
   "nbconvert_exporter": "python",
   "pygments_lexer": "ipython3",
   "version": "3.13.7"
  }
 },
 "nbformat": 4,
 "nbformat_minor": 5
}
