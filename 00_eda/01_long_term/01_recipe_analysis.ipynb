{
 "cells": [
  {
   "cell_type": "markdown",
   "id": "f99e085e",
   "metadata": {},
   "source": [
    "# 📈 Analyse Long-terme des Recettes\n",
    "\n",
    "## Objectif\n",
    "Analyser l'évolution des ratings des ingrédients sur le long terme (2000-2018) pour identifier :\n",
    "- Les tendances temporelles dans l'appréciation des ingrédients\n",
    "- Les changements de préférences alimentaires au fil des années\n",
    "- Les ingrédients émergents vs déclinants\n",
    "\n",
    "## Méthodologie\n",
    "- **Test statistique** : Mann-Kendall pour détecter les tendances monotones\n",
    "- **Agrégation** : Ratings moyens annuels par ingrédient\n",
    "- **Visualisation** : Séries temporelles avec régression linéaire\n",
    "- **Seuil de significativité** : p < 0.05"
   ]
  }
 ],
 "metadata": {
  "kernelspec": {
   "display_name": "00-eda (3.13.7)",
   "language": "python",
   "name": "python3"
  },
  "language_info": {
   "codemirror_mode": {
    "name": "ipython",
    "version": 3
   },
   "file_extension": ".py",
   "mimetype": "text/x-python",
   "name": "python",
   "nbconvert_exporter": "python",
   "pygments_lexer": "ipython3",
   "version": "3.13.7"
  }
 },
 "nbformat": 4,
 "nbformat_minor": 5
}
