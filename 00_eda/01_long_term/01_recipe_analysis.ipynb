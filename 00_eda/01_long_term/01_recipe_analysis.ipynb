{
 "cells": [
  {
   "cell_type": "code",
   "execution_count": 14,
   "id": "e5a487f7",
   "metadata": {},
   "outputs": [
    {
     "ename": "ModuleNotFoundError",
     "evalue": "No module named 'seanborn'",
     "output_type": "error",
     "traceback": [
      "\u001b[31m---------------------------------------------------------------------------\u001b[39m",
      "\u001b[31mModuleNotFoundError\u001b[39m                       Traceback (most recent call last)",
      "\u001b[36mCell\u001b[39m\u001b[36m \u001b[39m\u001b[32mIn[14]\u001b[39m\u001b[32m, line 3\u001b[39m\n\u001b[32m      1\u001b[39m \u001b[38;5;28;01mimport\u001b[39;00m\u001b[38;5;250m \u001b[39m\u001b[34;01mpolars\u001b[39;00m\u001b[38;5;250m \u001b[39m\u001b[38;5;28;01mas\u001b[39;00m\u001b[38;5;250m \u001b[39m\u001b[34;01mpl\u001b[39;00m\n\u001b[32m      2\u001b[39m \u001b[38;5;28;01mimport\u001b[39;00m\u001b[38;5;250m \u001b[39m\u001b[34;01mduckdb\u001b[39;00m\n\u001b[32m----> \u001b[39m\u001b[32m3\u001b[39m \u001b[38;5;28;01mimport\u001b[39;00m\u001b[38;5;250m \u001b[39m\u001b[34;01mseanborn\u001b[39;00m\n",
      "\u001b[31mModuleNotFoundError\u001b[39m: No module named 'seanborn'"
     ]
    }
   ],
   "source": [
    "import polars as pl\n",
    "import duckdb\n",
    "import seanborn"
   ]
  },
  {
   "cell_type": "code",
   "execution_count": null,
   "id": "fe83d4d9",
   "metadata": {},
   "outputs": [],
   "source": [
    "conn = duckdb.connect('/Users/yassinemernissi/Desktop/Backtothefuturekitchen/backtothefuturekitchen/10_preprod/data/mangetamain.duckdb')\n",
    "df = pl.from_arrow(conn.execute(\"SELECT * FROM RAW_recipes LIMIT 1000\").arrow())\n",
    "conn.close()"
   ]
  },
  {
   "cell_type": "code",
   "execution_count": 13,
   "id": "e8f276c2",
   "metadata": {},
   "outputs": [
    {
     "data": {
      "text/html": [
       "<div><style>\n",
       ".dataframe > thead > tr,\n",
       ".dataframe > tbody > tr {\n",
       "  text-align: right;\n",
       "  white-space: pre-wrap;\n",
       "}\n",
       "</style>\n",
       "<small>shape: (5, 12)</small><table border=\"1\" class=\"dataframe\"><thead><tr><th>name</th><th>id</th><th>minutes</th><th>contributor_id</th><th>submitted</th><th>tags</th><th>nutrition</th><th>n_steps</th><th>steps</th><th>description</th><th>ingredients</th><th>n_ingredients</th></tr><tr><td>str</td><td>i64</td><td>i64</td><td>i64</td><td>date</td><td>str</td><td>str</td><td>i64</td><td>str</td><td>str</td><td>str</td><td>i64</td></tr></thead><tbody><tr><td>&quot;arriba&nbsp;&nbsp;&nbsp;baked winter squash m…</td><td>137739</td><td>55</td><td>47892</td><td>2005-09-16</td><td>&quot;[&#x27;60-minutes-or-less&#x27;, &#x27;time-t…</td><td>&quot;[51.5, 0.0, 13.0, 0.0, 2.0, 0.…</td><td>11</td><td>&quot;[&#x27;make a choice and proceed wi…</td><td>&quot;autumn is my favorite time of …</td><td>&quot;[&#x27;winter squash&#x27;, &#x27;mexican sea…</td><td>7</td></tr><tr><td>&quot;a bit different&nbsp;&nbsp;breakfast piz…</td><td>31490</td><td>30</td><td>26278</td><td>2002-06-17</td><td>&quot;[&#x27;30-minutes-or-less&#x27;, &#x27;time-t…</td><td>&quot;[173.4, 18.0, 0.0, 17.0, 22.0,…</td><td>9</td><td>&quot;[&#x27;preheat oven to 425 degrees …</td><td>&quot;this recipe calls for the crus…</td><td>&quot;[&#x27;prepared pizza crust&#x27;, &#x27;saus…</td><td>6</td></tr><tr><td>&quot;all in the kitchen&nbsp;&nbsp;chili&quot;</td><td>112140</td><td>130</td><td>196586</td><td>2005-02-25</td><td>&quot;[&#x27;time-to-make&#x27;, &#x27;course&#x27;, &#x27;pr…</td><td>&quot;[269.8, 22.0, 32.0, 48.0, 39.0…</td><td>6</td><td>&quot;[&#x27;brown ground beef in large p…</td><td>&quot;this modified version of &#x27;mom&#x27;…</td><td>&quot;[&#x27;ground beef&#x27;, &#x27;yellow onions…</td><td>13</td></tr><tr><td>&quot;alouette&nbsp;&nbsp;potatoes&quot;</td><td>59389</td><td>45</td><td>68585</td><td>2003-04-14</td><td>&quot;[&#x27;60-minutes-or-less&#x27;, &#x27;time-t…</td><td>&quot;[368.1, 17.0, 10.0, 2.0, 14.0,…</td><td>11</td><td>&quot;[&#x27;place potatoes in a large po…</td><td>&quot;this is a super easy, great ta…</td><td>&quot;[&#x27;spreadable cheese with garli…</td><td>11</td></tr><tr><td>&quot;amish&nbsp;&nbsp;tomato ketchup&nbsp;&nbsp;for can…</td><td>44061</td><td>190</td><td>41706</td><td>2002-10-25</td><td>&quot;[&#x27;weeknight&#x27;, &#x27;time-to-make&#x27;, …</td><td>&quot;[352.9, 1.0, 337.0, 23.0, 3.0,…</td><td>5</td><td>&quot;[&#x27;mix all ingredients&amp; boil fo…</td><td>&quot;my dh&#x27;s amish mother raised hi…</td><td>&quot;[&#x27;tomato juice&#x27;, &#x27;apple cider …</td><td>8</td></tr></tbody></table></div>"
      ],
      "text/plain": [
       "shape: (5, 12)\n",
       "┌────────────┬────────┬─────────┬────────────┬───┬────────────┬────────────┬───────────┬───────────┐\n",
       "│ name       ┆ id     ┆ minutes ┆ contributo ┆ … ┆ steps      ┆ descriptio ┆ ingredien ┆ n_ingredi │\n",
       "│ ---        ┆ ---    ┆ ---     ┆ r_id       ┆   ┆ ---        ┆ n          ┆ ts        ┆ ents      │\n",
       "│ str        ┆ i64    ┆ i64     ┆ ---        ┆   ┆ str        ┆ ---        ┆ ---       ┆ ---       │\n",
       "│            ┆        ┆         ┆ i64        ┆   ┆            ┆ str        ┆ str       ┆ i64       │\n",
       "╞════════════╪════════╪═════════╪════════════╪═══╪════════════╪════════════╪═══════════╪═══════════╡\n",
       "│ arriba     ┆ 137739 ┆ 55      ┆ 47892      ┆ … ┆ ['make a   ┆ autumn is  ┆ ['winter  ┆ 7         │\n",
       "│ baked      ┆        ┆         ┆            ┆   ┆ choice and ┆ my         ┆ squash',  ┆           │\n",
       "│ winter     ┆        ┆         ┆            ┆   ┆ proceed    ┆ favorite   ┆ 'mexican  ┆           │\n",
       "│ squash m…  ┆        ┆         ┆            ┆   ┆ wi…        ┆ time of …  ┆ sea…      ┆           │\n",
       "│ a bit      ┆ 31490  ┆ 30      ┆ 26278      ┆ … ┆ ['preheat  ┆ this       ┆ ['prepare ┆ 6         │\n",
       "│ different  ┆        ┆         ┆            ┆   ┆ oven to    ┆ recipe     ┆ d pizza   ┆           │\n",
       "│ breakfast  ┆        ┆         ┆            ┆   ┆ 425        ┆ calls for  ┆ crust',   ┆           │\n",
       "│ piz…       ┆        ┆         ┆            ┆   ┆ degrees …  ┆ the crus…  ┆ 'saus…    ┆           │\n",
       "│ all in the ┆ 112140 ┆ 130     ┆ 196586     ┆ … ┆ ['brown    ┆ this       ┆ ['ground  ┆ 13        │\n",
       "│ kitchen    ┆        ┆         ┆            ┆   ┆ ground     ┆ modified   ┆ beef',    ┆           │\n",
       "│ chili      ┆        ┆         ┆            ┆   ┆ beef in    ┆ version of ┆ 'yellow   ┆           │\n",
       "│            ┆        ┆         ┆            ┆   ┆ large p…   ┆ 'mom'…     ┆ onions…   ┆           │\n",
       "│ alouette   ┆ 59389  ┆ 45      ┆ 68585      ┆ … ┆ ['place    ┆ this is a  ┆ ['spreada ┆ 11        │\n",
       "│ potatoes   ┆        ┆         ┆            ┆   ┆ potatoes   ┆ super      ┆ ble       ┆           │\n",
       "│            ┆        ┆         ┆            ┆   ┆ in a large ┆ easy,      ┆ cheese    ┆           │\n",
       "│            ┆        ┆         ┆            ┆   ┆ po…        ┆ great ta…  ┆ with      ┆           │\n",
       "│            ┆        ┆         ┆            ┆   ┆            ┆            ┆ garli…    ┆           │\n",
       "│ amish      ┆ 44061  ┆ 190     ┆ 41706      ┆ … ┆ ['mix all  ┆ my dh's    ┆ ['tomato  ┆ 8         │\n",
       "│ tomato     ┆        ┆         ┆            ┆   ┆ ingredient ┆ amish      ┆ juice',   ┆           │\n",
       "│ ketchup    ┆        ┆         ┆            ┆   ┆ s& boil    ┆ mother     ┆ 'apple    ┆           │\n",
       "│ for can…   ┆        ┆         ┆            ┆   ┆ fo…        ┆ raised hi… ┆ cider …   ┆           │\n",
       "└────────────┴────────┴─────────┴────────────┴───┴────────────┴────────────┴───────────┴───────────┘"
      ]
     },
     "execution_count": 13,
     "metadata": {},
     "output_type": "execute_result"
    }
   ],
   "source": [
    "df.head()"
   ]
  },
  {
   "cell_type": "code",
   "execution_count": null,
   "id": "095a7006",
   "metadata": {},
   "outputs": [],
   "source": []
  }
 ],
 "metadata": {
  "kernelspec": {
   "display_name": "00-eda (3.13.7)",
   "language": "python",
   "name": "python3"
  },
  "language_info": {
   "codemirror_mode": {
    "name": "ipython",
    "version": 3
   },
   "file_extension": ".py",
   "mimetype": "text/x-python",
   "name": "python",
   "nbconvert_exporter": "python",
   "pygments_lexer": "ipython3",
   "version": "3.13.7"
  }
 },
 "nbformat": 4,
 "nbformat_minor": 5
}
